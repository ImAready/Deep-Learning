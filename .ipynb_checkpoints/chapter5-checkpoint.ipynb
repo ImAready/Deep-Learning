{
 "cells": [
  {
   "cell_type": "markdown",
   "metadata": {},
   "source": [
    "### 5.3 역전파\n",
    "\n",
    "\n",
    "#### 5.3.1 덧셈의 역전파\n",
    "상류에서 전해진 미분에 1을 곱하여 흘린다.\n",
    "* 1을 곱하기만 할 뿐이므로 입력된 값을 그대로 다음 노드로 보낸다.\n",
    "\n",
    "\n",
    "#### 5.3.2 곱셈의 역전파\n",
    "* 상류의 값에 순전파 때의 입력 신호들을 '서로 바꾼 값'을 곱해서 하류로 보낸다.\n",
    " 따라서 **순방향 입력 신호의 값이 필요**하다\n",
    " \n",
    " \n",
    "### 5.4 단순한 계층 구하기\n",
    "\n",
    "신경망을 구성하는 층(신경망의 기능 단위) 각각을 하나의 클래스로 구현한다.\n",
    "예를들어 시그모이드 함수를 위한 Sigmoid, 행렬 내적을 위한 Affine 등의 기능을 계층 단위로 구현한다.\n",
    "\n",
    "#### 5.4.1 곱셈 계층\n",
    "\n",
    "* 곱셈 계층 구현"
   ]
  },
  {
   "cell_type": "code",
   "execution_count": 1,
   "metadata": {},
   "outputs": [],
   "source": [
    "class MulLayer:\n",
    "    def __init__(self):    # 인스턴스 변수 x, y 초기화\n",
    "        self.x = None\n",
    "        self.y = None\n",
    "        \n",
    "    \n",
    "    def forward(self, x, y):    #순전파\n",
    "        self.x = x\n",
    "        self.y = y\n",
    "        out = x * y\n",
    "        \n",
    "        return out\n",
    "    \n",
    "    \n",
    "    def backward(self, dout):    #역전파, 미분(dout)을 받는다.\n",
    "        dx = dout * self.y   # x와 y를 바꾼다.\n",
    "        dy = dout * self.x\n",
    "        \n",
    "        return dx, dy\n",
    "    \n",
    "    "
   ]
  },
  {
   "cell_type": "markdown",
   "metadata": {},
   "source": [
    "* 사과 쇼핑 구현"
   ]
  },
  {
   "cell_type": "code",
   "execution_count": 7,
   "metadata": {},
   "outputs": [
    {
     "name": "stdout",
     "output_type": "stream",
     "text": [
      "순전파::: 220.00000000000003\n",
      "역전파::: 2.2 110.00000000000001 200\n"
     ]
    }
   ],
   "source": [
    "apple = 100\n",
    "apple_num = 2\n",
    "tax = 1.1\n",
    "\n",
    "#계층들\n",
    "mul_apple_layer = MulLayer()\n",
    "mul_tax_layer = MulLayer()\n",
    "\n",
    "#순전파\n",
    "apple_price = mul_apple_layer.forward(apple, apple_num)\n",
    "price = mul_tax_layer.forward(apple_price, tax)\n",
    "\n",
    "print(\"순전파:::\",price)\n",
    "\n",
    "#역전파\n",
    "dprice = 1\n",
    "\n",
    "# 순전파 출력에 대한 미분을 받는다.\n",
    "dapple_price, dtax = mul_tax_layer.backward(dprice)    \n",
    "dapple, dapple_num = mul_apple_layer.backward(dapple_price)\n",
    "\n",
    "print(\"역전파:::\", dapple, dapple_num, dtax)"
   ]
  },
  {
   "cell_type": "markdown",
   "metadata": {},
   "source": [
    "\n",
    "#### 5.4.2 덧셈 계층\n"
   ]
  },
  {
   "cell_type": "code",
   "execution_count": 9,
   "metadata": {},
   "outputs": [],
   "source": [
    "class AddLayer:\n",
    "    def __init__(self):\n",
    "        pass\n",
    "    \n",
    "    \n",
    "    def forward(self, x, y):\n",
    "        out = x + y\n",
    "        \n",
    "        return out\n",
    "    \n",
    "    \n",
    "    def backward(self, dout):\n",
    "        dx = dout * 1\n",
    "        dy = dout * 1\n",
    "        \n",
    "        return dx, dy"
   ]
  },
  {
   "cell_type": "markdown",
   "metadata": {},
   "source": [
    " * 사과 2개(위) 귤 3개 구현"
   ]
  },
  {
   "cell_type": "code",
   "execution_count": 12,
   "metadata": {},
   "outputs": [],
   "source": [
    "orange = 150\n",
    "orange_num = 3\n",
    "\n",
    "#계층들\n",
    "mul_orange_layer = MulLayer()\n",
    "add_apple_orange_layer = AddLayer()\n",
    "\n",
    "\n",
    "#순전파\n",
    "orange_price = mul_orange_layer.forward(orange, orange_num)\n",
    "all_price = add_apple_orange_layer.forward(apple_price, orange_price)\n"
   ]
  },
  {
   "cell_type": "code",
   "execution_count": null,
   "metadata": {},
   "outputs": [],
   "source": []
  }
 ],
 "metadata": {
  "kernelspec": {
   "display_name": "deep",
   "language": "python",
   "name": "deep"
  },
  "language_info": {
   "codemirror_mode": {
    "name": "ipython",
    "version": 3
   },
   "file_extension": ".py",
   "mimetype": "text/x-python",
   "name": "python",
   "nbconvert_exporter": "python",
   "pygments_lexer": "ipython3",
   "version": "3.6.5"
  }
 },
 "nbformat": 4,
 "nbformat_minor": 2
}
