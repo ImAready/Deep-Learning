{
 "cells": [
  {
   "cell_type": "markdown",
   "metadata": {},
   "source": []
  },
  {
   "cell_type": "markdown",
   "metadata": {},
   "source": [
    "- 미니 배치 학습\n",
    ": 데이터가 많은 경우 일부를 추려 근사치로 이용하여 학습을 수행한다. "
   ]
  },
  {
   "cell_type": "code",
   "execution_count": 1,
   "metadata": {},
   "outputs": [],
   "source": [
    "import sys, os\n",
    "sys.path.append(os.pardir)\n",
    "import numpy as np\n",
    "from dataset.mnist import load_mnist"
   ]
  },
  {
   "cell_type": "code",
   "execution_count": 2,
   "metadata": {},
   "outputs": [
    {
     "name": "stdout",
     "output_type": "stream",
     "text": [
      "x_train shape::: (60000, 784)\n",
      "t_train shape::: (60000, 10)\n"
     ]
    }
   ],
   "source": [
    "(x_train, t_train), (x_test, t_test) =\\\n",
    "load_mnist(normalize=True, one_hot_label=True)\n",
    "\n",
    "print(\"x_train shape:::\",x_train.shape)\n",
    "print(\"t_train shape:::\",t_train.shape)"
   ]
  },
  {
   "cell_type": "markdown",
   "metadata": {},
   "source": [
    "**!!!**  \\ -> 무엇인가.. 자동생성해주네\n",
    "\n",
    "one_hot_label : 정답 위치의 원소만 1 나머지는 0\n",
    "\n",
    "    - dataset에서 무작위로 10장만 뺀다"
   ]
  },
  {
   "cell_type": "code",
   "execution_count": 3,
   "metadata": {},
   "outputs": [
    {
     "name": "stdout",
     "output_type": "stream",
     "text": [
      "x_batch::: [[0. 0. 0. ... 0. 0. 0.]\n",
      " [0. 0. 0. ... 0. 0. 0.]\n",
      " [0. 0. 0. ... 0. 0. 0.]\n",
      " ...\n",
      " [0. 0. 0. ... 0. 0. 0.]\n",
      " [0. 0. 0. ... 0. 0. 0.]\n",
      " [0. 0. 0. ... 0. 0. 0.]]\n",
      "t_batch::: [[0. 1. 0. 0. 0. 0. 0. 0. 0. 0.]\n",
      " [0. 1. 0. 0. 0. 0. 0. 0. 0. 0.]\n",
      " [0. 0. 0. 0. 0. 0. 0. 0. 1. 0.]\n",
      " [0. 0. 0. 0. 0. 0. 1. 0. 0. 0.]\n",
      " [0. 0. 0. 0. 0. 0. 0. 0. 1. 0.]\n",
      " [0. 0. 0. 0. 0. 0. 0. 1. 0. 0.]\n",
      " [0. 0. 0. 0. 0. 0. 1. 0. 0. 0.]\n",
      " [0. 0. 1. 0. 0. 0. 0. 0. 0. 0.]\n",
      " [1. 0. 0. 0. 0. 0. 0. 0. 0. 0.]\n",
      " [1. 0. 0. 0. 0. 0. 0. 0. 0. 0.]]\n",
      "batch_mask::: [54651 29499 29276 15797  5243 56510 10163   684 39527 54083]\n"
     ]
    }
   ],
   "source": [
    "train_size = x_train.shape[0]\n",
    "batch_size = 10\n",
    "batch_mask = np.random.choice(train_size, batch_size)\n",
    "\n",
    "x_batch = x_train[batch_mask]\n",
    "t_batch = t_train[batch_mask]\n",
    "\n",
    "print(\"x_batch:::\", x_batch)\n",
    "print(\"t_batch:::\", t_batch)\n",
    "print(\"batch_mask:::\", batch_mask)"
   ]
  },
  {
   "cell_type": "markdown",
   "metadata": {},
   "source": [
    "뭐여...뭐야??\n",
    "아 batch_mask가 데이터의 인덱스가 됨. 인덱스마다 배열이 들어있음\n",
    "np.random.choice : 지정한 범위의 수중에서 무작위로 원하는 개수만 꺼낼 수 있다."
   ]
  },
  {
   "cell_type": "markdown",
   "metadata": {},
   "source": [
    "- 배치용 교차 엔트로피 오차 구현\n",
    "미니 배치 같은 데이터를 처리할 수 있는 교차 엔트로피 구현"
   ]
  },
  {
   "cell_type": "code",
   "execution_count": 4,
   "metadata": {},
   "outputs": [],
   "source": [
    "def cross_entropy_error(y, t):\n",
    "    if y.ndim == 1:\n",
    "        t = t.reshape(1, t.size)\n",
    "        y = y.reshape(1, y.size)        \n",
    "    batch_size = y.shape[0]\n",
    "    \n",
    "    return -np.sum(t * np.log(y)) / batch_size"
   ]
  },
  {
   "cell_type": "markdown",
   "metadata": {},
   "source": [
    "y는 신경망의 출력, t는 정답 레이블\n",
    "y가 1차원이라면, *즉 데이터 하나당 교차 엔트로피 오차를 구하는 경우* reshape 함수로 데이터의 형상을 바꿔준다. 그리고 배차(?)의 크기로 나눠 정규화하고 *이미지 1장당 편귱 교차 엔트로피 오차를 계산*\n",
    "\n",
    "- 정답 레이블이 원핫코딩이 아니라 숫자 레이블로 주어졌을 경우 구현"
   ]
  },
  {
   "cell_type": "code",
   "execution_count": 5,
   "metadata": {},
   "outputs": [],
   "source": [
    "def cross_entropy_error2(y, t):\n",
    "    if y.ndim == 1:\n",
    "        t = t.reshape(1, t.size)\n",
    "        y = y.reshape(1, y.size)\n",
    "    batch_size = y.shape[0]\n",
    "    \n",
    "    return -np.sum(np.lag(y[np.arrange(batch_size), t])) / batch_size"
   ]
  },
  {
   "cell_type": "markdown",
   "metadata": {},
   "source": [
    "위 구현의 핵심 : 원-핫 인코딩일 때 t가 0인 원소는 교차 엔트로피 오차도 0이므로 그 계산은 무시해도 좋다는 것. 즉 정답에 해당하는 신경망의 출력만으로 교차 엔트로피 오차를 계산할 수 있다. 그래서 np.log(y) 부분을 np.lag(y[np.arrange(batch_size), t]로 구현\n",
    "\n",
    "np.arrange(batch_size)는 0부터 batch_size-1 까지 배열을 생성한다. 즉 batch_size가 5이면 [0, 1, 2, 3, 4] 배열을 생성한다. t에는 레이블이 [2, 7, 0, 9, 4]와 같이 저장되 있으므로 y[np.arrange(batch_size), t]는 각 데이터의 정답 레이블에 해당하는 신경망의 출력을 추출한다. \n",
    "\n",
    "위 예시로 보면 [y[0, 2], y[1, 7], y[2, 0], y[3, 9], y[4, 4]]를 반환한다."
   ]
  },
  {
   "cell_type": "markdown",
   "metadata": {},
   "source": [
    "#### 4.3 수치미분\n",
    "\n",
    "경사법에서는 기울기 값을 기준으로 나아갈 방향을 정한다. \n",
    "\n",
    "1. 미분\n",
    "어떤 작은 변화가 함수를 얼마나 변화시키는가\n",
    "\n",
    "**나쁜 구현 예**"
   ]
  },
  {
   "cell_type": "code",
   "execution_count": 6,
   "metadata": {},
   "outputs": [],
   "source": [
    "def numerical_diff(f, x):\n",
    "    h = 10e-50\n",
    "    return (f(x + h) - f(x)) / h"
   ]
  },
  {
   "cell_type": "markdown",
   "metadata": {},
   "source": [
    "h에 가능한한 무한히 0에 가깝게 하기 위해서 10e-50을 사용했다. 그러나 이 방식은 **반올림 오차** 문제를 일으킨다.\n",
    "반올림 오차는 작은값이 생략되어 최종 계산 결과에 오차가 생기게 한다. 즉 0.0이 되버려서 올바른 표현이 어렵다\n",
    "\n",
    "또, 진정한 미분은 x 위치의 함수의 기울기에 해당하지만 위 구현에서의 미분은 (x+h)와 x 사이의 기울기에 해당한다. 그래서 진정한 미분과 일치 하지 않음. 이 차이는 h를 무한히 0으로 좁히는 것이 불가능해서 생기는 문제로 수치 미분에는 오차가 포함됨.\n",
    "이 오차를 줄이기 위해 (x + h)와 (x - h)일 때의 함수f의 차분을 계산하는 방법을 쓰기도 한다."
   ]
  },
  {
   "cell_type": "markdown",
   "metadata": {},
   "source": [
    "\n",
    "\n",
    "##### 4.3.1 미분 #####\n"
   ]
  },
  {
   "cell_type": "code",
   "execution_count": 7,
   "metadata": {},
   "outputs": [],
   "source": [
    "def numerical_diff(f, x):    # 미분 함수, 미분 수식\n",
    "    h = 1e-4    # 0.0001 - : 연산 아님 띄어쓰기 하면 안됨\n",
    "    return (f(x+h) - f(x-h)) / (2*h)"
   ]
  },
  {
   "cell_type": "markdown",
   "metadata": {},
   "source": [
    "##### 4.3.2 수치 미분\n"
   ]
  },
  {
   "cell_type": "code",
   "execution_count": 8,
   "metadata": {},
   "outputs": [],
   "source": [
    "def function_1(x):    # 미분할 함수\n",
    "    return 0.01 * x ** 2 + 0.1 * x\n",
    "\n",
    "def tangent_line(f, x):\n",
    "    d = numerical_diff(f, x)\n",
    "    print(d)\n",
    "    y = f(x) - d * x\n",
    "    \n",
    "    return lambda t: d * t + y"
   ]
  },
  {
   "cell_type": "code",
   "execution_count": 9,
   "metadata": {},
   "outputs": [
    {
     "name": "stdout",
     "output_type": "stream",
     "text": [
      "0.2999999999986347\n"
     ]
    },
    {
     "data": {
      "image/png": "[encoded data removed]",
      "text/plain": [
       "<Figure size 432x288 with 1 Axes>"
      ]
     },
     "metadata": {},
     "output_type": "display_data"
    }
   ],
   "source": [
    "%matplotlib inline\n",
    "# 워였더라 이거\n",
    "import numpy as np\n",
    "import matplotlib.pylab as plt\n",
    "\n",
    "x = np.arange(0.0, 20.0, 0.1)    #0.0부터 20.0까지 0.1 간격으로 배열을 반환\n",
    "y = function_1(x)    # f(x)\n",
    "\n",
    "tf = tangent_line(function_1, 10)    #x=10 왜???\n",
    "y2 = tf(x)    # 위 결과tf가 함수?\n",
    "\n",
    "plt.xlabel('x'); plt.ylabel('f(x)')\n",
    "plt.plot(x, y)\n",
    "plt.plot(x, y2)\n",
    "plt.show()\n",
    "# feth 하지 못함"
   ]
  },
  {
   "cell_type": "markdown",
   "metadata": {},
   "source": [
    "##### 4.3.3 편미분\n",
    "\n",
    "#### 4.4 기울기\n",
    "x0, x1 양쪽의 편비문을 묶어서 계산. 이와 같이 모든 변수의 편미분을 벡터로 나타낸 것을 기울기라고 한다.\n"
   ]
  },
  {
   "cell_type": "code",
   "execution_count": 10,
   "metadata": {},
   "outputs": [],
   "source": [
    "def _numerical_gradient_no_batch(f, x):\n",
    "    h = 1e-4\n",
    "    grad = np.zeros_like(x)    # x와 형상이 같은 배열을 생성\n",
    "    \n",
    "    for idx in range(x.size):\n",
    "        tmp_val = x[idx]    # 인자의 배열에 각 데이터\n",
    "        \n",
    "        #f(x+h) \n",
    "        x[idx] = float(tmp_val) + h   # 배열에 x + h 값을 삽입?\n",
    "        fxh1 = f(x)    # 여기서 x는 위 값인가?\n",
    "        \n",
    "        #f(x-h)\n",
    "        x[idx] = tmp_val - h\n",
    "        fxh2 = f(x)\n",
    "        \n",
    "        grad[idx] = (fxh1 - fxh2) / (2*h)    # x와 형상이 같은 새로 생성한 배열에 넣음\n",
    "        x[idx] = tmp_val    # 값 복원\n",
    "        \n",
    "        return grad\n",
    "    \n",
    "\n",
    "def numerical_gradient(f, X):\n",
    "    if X.ndim == 1:    #  ndim -> 배열이 몇 차원 배열인지\n",
    "        return _numerical_gradient_no_batch(f, X)\n",
    "    else:\n",
    "        grad = np.zeros_like(X)\n",
    "        \n",
    "        for idx, x in enumerate(X):\n",
    "            grad[idx] = _numerical_gradient_no_batch(f, x)\n",
    "        \n",
    "        return grad"
   ]
  },
  {
   "cell_type": "code",
   "execution_count": 11,
   "metadata": {},
   "outputs": [],
   "source": [
    "def function_2(x):\n",
    "    if x.ndim == 1:\n",
    "        return np.sum(x**2)\n",
    "    else:\n",
    "        return np.sum(x**2, axis=1)     #axis???\n",
    "    \n",
    "\n",
    "def tangent_line(f,x):\n",
    "    d = numerical_gradient(f, x)\n",
    "    prinf(d)\n",
    "    y = f(x) - d*x\n",
    "    \n",
    "    return lambda t: d*t + y\n",
    "    "
   ]
  },
  {
   "cell_type": "code",
   "execution_count": 12,
   "metadata": {},
   "outputs": [
    {
     "name": "stderr",
     "output_type": "stream",
     "text": [
      "No handles with labels found to put in legend.\n"
     ]
    },
    {
     "data": {
      "image/png": "[encoded data removed]",
      "text/plain": [
       "<Figure size 432x288 with 1 Axes>"
      ]
     },
     "metadata": {},
     "output_type": "display_data"
    }
   ],
   "source": [
    "x0 = np.arange(-2, 2.5, 0.25)\n",
    "x1 = np.arange(-2, 2.5, 0.25)\n",
    "X, Y = np.meshgrid(x0, x1)     # meshgrid??\n",
    "\n",
    "X = X.flatten()      # flatten??\n",
    "Y = Y.flatten()\n",
    "\n",
    "grad = numerical_gradient(function_2, np.array([X, Y]) )\n",
    "\n",
    "plt.figure()\n",
    "plt.quiver(X, Y, -grad[0], -grad[1],  angles=\"xy\",color=\"#666666\")\n",
    "plt.xlim([-2, 2])\n",
    "plt.ylim([-2, 2])\n",
    "plt.xlabel('$x_0$')\n",
    "plt.ylabel('$x_1$')\n",
    "plt.grid()\n",
    "plt.legend()\n",
    "plt.draw()\n",
    "plt.show()"
   ]
  },
  {
   "cell_type": "markdown",
   "metadata": {},
   "source": [
    " 왜 달라..? 어디 오타야~!~\n",
    " \n",
    " \n",
    " ##### 4.4.1 경사법\n",
    " \n",
    " 최적*(손실 함수가 최소값이 될 때의 매개변수 값)*의 매개변수를 학습 단계에서 찾아야 한다.\n",
    " 그러나 매개변수 공간이 광대해 어디가 최소값이 되는 곳인지 알아내기 쉽지 않아서 기울기를 이용해서 함수의 최소값을 찾으려는 것이 **경사법**\n",
    " \n",
    " \n",
    " 각 지점에서 함수의 값을 낮추는 방안을 제시하는 지표가 기울기다. 하지만 그 기울기가 가리키는 곳이 정말 함수의 최소값이 있는지는 보장할 수 없다. **실제로 최소값이 없는 경우가 대부분**\n",
    " 그러나 그 방향으로 가야 함수의 값을 줄일 수 있다. \n",
    " \n",
    " **경사법** : 현재 위치에서 기울어진 방향으로 일정 거리를 이동하고, 이동한 위치에서 기울기를 구하고 그 방향으로 나아가는 것을 반복한다. 이렇게 점차 함수의 값을 줄이는 것. *기계학습 최적화로 주로 쓰인다.*\n",
    " \n",
    " 경사법 수식 (1회 - 이 수식을 반복한다)\n",
    " \n",
    " ![경사법 수식](./image/img1.JPG)\n",
    " \n",
    " 갱신하는 양을 나타냄. 신경망 학습에서는 학습량. -> 한 번의 학습을 얼마만큼 해야하는지 = 매개변수 값을 얼마나 갱신하는가를 정하는 것\n",
    " \n",
    " **학습률 값은 미리 정해두어야 한다.** 이 값이 너무 크거나 작으면 좋지 않음.\n",
    " 신경망 학습에서는 보통 이 학습률 값을 변경하면서 올바르게 학습하고 있는지를 확인하면서 진행\n",
    " *학습률처럼 사람이 직접 설정해야하는 매개변수를 **하이퍼파라미터**라고한다*\n",
    " \n",
    " * 경사 하강법 함수 구현"
   ]
  },
  {
   "cell_type": "code",
   "execution_count": 13,
   "metadata": {},
   "outputs": [],
   "source": [
    "\"\"\"\n",
    "f : 최적화 하려는 함수\n",
    "init_x : 초기값\n",
    "lr : learning rate, 학습률\n",
    "step_num : 경사법 반복 횟수\n",
    "\n",
    "\"\"\"\n",
    "\n",
    "def gradient_descent(f, init_x, lr=0.01, step_num=100):\n",
    "    x = init_x\n",
    "    \n",
    "    for i in range(step_num):    # step_num만큼 반복\n",
    "        grad = numerical_gradient(f, x)    # 함수의 기울기를 구함\n",
    "        x -= lr * grad    # 계산된 기울기에 학습률을 곱한다.\n",
    "    \n",
    "    return x"
   ]
  },
  {
   "cell_type": "markdown",
   "metadata": {},
   "source": [
    "* 경사법으로 ![](.\\image\\img2.JPG)를 구현"
   ]
  },
  {
   "cell_type": "code",
   "execution_count": 14,
   "metadata": {},
   "outputs": [
    {
     "data": {
      "text/plain": [
       "array([-6.10953066e-10,  4.00000000e+00])"
      ]
     },
     "execution_count": 14,
     "metadata": {},
     "output_type": "execute_result"
    }
   ],
   "source": [
    "def function_2(x):\n",
    "    return x[0]**2 + x[1]**2\n",
    "\n",
    "init_x = np.array([-3.0, 4.0])    # 초기값(-3.0, 4.0)\n",
    "gradient_descent(function_2, init_x=init_x, lr=0.1, step_num=100)\n"
   ]
  },
  {
   "cell_type": "markdown",
   "metadata": {},
   "source": [
    "결과는 거의 (0, 0)에 가까운 결과. \n",
    "\n",
    "\n",
    "* 경사법 갱신 과정을 그림으로 구현\n",
    "   값이 가장 낮은 장소인 원점에 점차 가까워지고 있다.\n",
    "   "
   ]
  },
  {
   "cell_type": "code",
   "execution_count": 15,
   "metadata": {},
   "outputs": [],
   "source": [
    "def gradient_descent2(f, init_x, lr=0.01, step_num=100):\n",
    "    x = init_x\n",
    "    x_history = []\n",
    "\n",
    "    for i in range(step_num):\n",
    "        x_history.append( x.copy() )\n",
    "\n",
    "        grad = numerical_gradient(f, x)\n",
    "        x -= lr * grad\n",
    "\n",
    "    return x, np.array(x_history)"
   ]
  },
  {
   "cell_type": "code",
   "execution_count": 16,
   "metadata": {},
   "outputs": [
    {
     "data": {
      "image/png": "[encoded data removed]",
      "text/plain": [
       "<Figure size 432x288 with 1 Axes>"
      ]
     },
     "metadata": {},
     "output_type": "display_data"
    }
   ],
   "source": [
    "init_x = np.array([-3.0, 4.0])    \n",
    "\n",
    "lr = 0.1\n",
    "step_num = 20\n",
    "x, x_history = gradient_descent2(function_2, init_x, lr=lr, step_num=step_num)\n",
    "\n",
    "plt.plot( [-5, 5], [0,0], '--b')\n",
    "plt.plot( [0,0], [-5, 5], '--b')\n",
    "plt.plot(x_history[:,0], x_history[:,1], 'o')\n",
    "\n",
    "plt.xlim(-3.5, 3.5)\n",
    "plt.ylim(-4.5, 4.5)\n",
    "plt.xlabel(\"$X_0$\")\n",
    "plt.ylabel(\"$X_1$\")\n",
    "plt.show()"
   ]
  },
  {
   "cell_type": "markdown",
   "metadata": {},
   "source": [
    ".. .....~~\n",
    "\n",
    "\n",
    "* 학습률이 너무 큰 경우\n"
   ]
  },
  {
   "cell_type": "code",
   "execution_count": 17,
   "metadata": {},
   "outputs": [
    {
     "data": {
      "text/plain": [
       "array([-2.58984259e+13,  4.00000000e+00])"
      ]
     },
     "execution_count": 17,
     "metadata": {},
     "output_type": "execute_result"
    }
   ],
   "source": [
    "init_x = np.array([-3.0, 4.0])\n",
    "gradient_descent(function_2, init_x=init_x, lr=10.0, step_num=100)\n"
   ]
  },
  {
   "cell_type": "markdown",
   "metadata": {},
   "source": [
    "* 학습률이 너무 작은 경우"
   ]
  },
  {
   "cell_type": "code",
   "execution_count": 18,
   "metadata": {},
   "outputs": [
    {
     "data": {
      "text/plain": [
       "array([-2.99999994,  4.        ])"
      ]
     },
     "execution_count": 18,
     "metadata": {},
     "output_type": "execute_result"
    }
   ],
   "source": [
    "init_x = np.array([-3.0, 4.0])\n",
    "gradient_descent(function_2, init_x=init_x, lr=1e-10, step_num=100)"
   ]
  },
  {
   "cell_type": "markdown",
   "metadata": {},
   "source": [
    "##### 4.2.2 신경망에서의 기울기\n",
    "\n",
    "\n",
    "신경망 학습에서 기울기는 가중치 매개변수에 관한 손실함수의 기울기이다.\n",
    "\n",
    "예를들어 아래 신경망일 경우\n",
    "    형상 : 2X3\n",
    "    가중치 : W\n",
    "    손실함수 : L\n",
    "        경사는 ![](.\\image\\img3.JPG) \n",
    "        수식은 ![](.\\image\\img4.JPG)\n",
    "    ![](.\\image\\img3.JPG) 의 각 원소는 각각의 원소에 대한 편미분이다. 예를 들면 1행 1번째 원소는 \n",
    "    가중치의 1행 1번째 가중치를 조금 변경했을 때 손실 함수 L이 얼마나 변화하느냐를 나타낸다.\n",
    "    \n",
    "    \n",
    "   \n",
    "   * 간단한 신경망을 예로 기울기 구현\n",
    "        "
   ]
  },
  {
   "cell_type": "code",
   "execution_count": null,
   "metadata": {},
   "outputs": [],
   "source": [
    "import sys, os\n",
    "sys.path.append(os.pardir)\n",
    "import numpy as np\n",
    "from common.functions import softmax, cross_enrtopy_error\n",
    "from common.gradient import numerical_gradient"
   ]
  }
 ],
 "metadata": {
  "kernelspec": {
   "display_name": "deep",
   "language": "python",
   "name": "deep"
  },
  "language_info": {
   "codemirror_mode": {
    "name": "ipython",
    "version": 3
   },
   "file_extension": ".py",
   "mimetype": "text/x-python",
   "name": "python",
   "nbconvert_exporter": "python",
   "pygments_lexer": "ipython3",
   "version": "3.6.5"
  }
 },
 "nbformat": 4,
 "nbformat_minor": 2
}
