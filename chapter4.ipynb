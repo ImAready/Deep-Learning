{
 "cells": [
  {
   "cell_type": "markdown",
   "metadata": {},
   "source": [
    "#### 4.3 수치 미분 ####\n",
    "\n",
    "##### 4.3.1 미분 #####\n"
   ]
  },
  {
   "cell_type": "code",
   "execution_count": 6,
   "metadata": {},
   "outputs": [],
   "source": [
    "def numerical_diff(f, x):    # 미분 함수, 미분 수식\n",
    "    h = 1e-4    # 0.0001 - : 연산 아님 띄어쓰기 하면 안됨\n",
    "    return (f(x+h) - f(x-h)) / (2*h)"
   ]
  },
  {
   "cell_type": "markdown",
   "metadata": {},
   "source": [
    "##### 4.3.2 수치 미분\n"
   ]
  },
  {
   "cell_type": "code",
   "execution_count": 2,
   "metadata": {},
   "outputs": [],
   "source": [
    "def function_1(x):    # 미분할 함수\n",
    "    return 0.01 * x ** 2 + 0.1 * x\n",
    "\n",
    "def tangent_line(f, x):\n",
    "    d = numerical_diff(f, x)\n",
    "    print(d)\n",
    "    y = f(x) - d * x\n",
    "    \n",
    "    return lambda t: d * t + y"
   ]
  },
  {
   "cell_type": "code",
   "execution_count": 7,
   "metadata": {},
   "outputs": [
    {
     "name": "stdout",
     "output_type": "stream",
     "text": [
      "0.2999999999986347\n"
     ]
    },
    {
     "data": {
      "image/png": "[encoded data removed]",
      "text/plain": [
       "<Figure size 432x288 with 1 Axes>"
      ]
     },
     "metadata": {},
     "output_type": "display_data"
    }
   ],
   "source": [
    "%matplotlib inline\n",
    "# 워였더라 이거\n",
    "import numpy as np\n",
    "import matplotlib.pylab as plt\n",
    "\n",
    "x = np.arange(0.0, 20.0, 0.1)    #0.0부터 20.0까지 0.1 간격으로 배열을 반환\n",
    "y = function_1(x)    # f(x)\n",
    "\n",
    "tf = tangent_line(function_1, 10)    #x=10 왜???\n",
    "y2 = tf(x)    # 위 결과tf가 함수?\n",
    "\n",
    "plt.xlabel('x'); plt.ylabel('f(x)')\n",
    "plt.plot(x, y)\n",
    "plt.plot(x, y2)\n",
    "plt.show()\n",
    "# feth 하지 못함"
   ]
  },
  {
   "cell_type": "markdown",
   "metadata": {},
   "source": [
    "##### 4.3.3 편미분\n",
    "\n",
    "#### 4.4 기울기\n",
    "x0, x1 양쪽의 편비문을 묶어서 계산. 이와 같이 모든 변수의 편미분을 벡터로 나타낸 것을 기울기라고 한다.\n"
   ]
  },
  {
   "cell_type": "code",
   "execution_count": 16,
   "metadata": {},
   "outputs": [],
   "source": [
    "def _numerical_gradient_no_batch(f, x):\n",
    "    h = 1e-4\n",
    "    grad = np.zeros_like(x)    # x와 형상이 같은 배열을 생성\n",
    "    \n",
    "    for idx in range(x.size):\n",
    "        tmp_val = x[idx]    # 인자의 배열에 각 데이터\n",
    "        \n",
    "        #f(x+h) \n",
    "        x[idx] = float(tmp_val) + h   # 배열에 x + h 값을 삽입?\n",
    "        fxh1 = f(x)    # 여기서 x는 위 값인가?\n",
    "        \n",
    "        #f(x-h)\n",
    "        x[idx] = tmp_val - h\n",
    "        fxh2 = f(x)\n",
    "        \n",
    "        grad[idx] = (fxh1 - fxh2) / (2*h)    # x와 형상이 같은 새로 생성한 배열에 넣음\n",
    "        x[idx] = tmp_val    # 값 복원\n",
    "        \n",
    "        return grad\n",
    "    \n",
    "\n",
    "def numerical_gradient(f, X):\n",
    "    if X.ndim == 1:    #  ndim -> 배열이 몇 차원 배열인지\n",
    "        return _numerical_gradient_no_batch(f, X)\n",
    "    else:\n",
    "        grad = np.zeros_like(X)\n",
    "        \n",
    "        for idx, x in enumerate(X):\n",
    "            grad[idx] = _numerical_gradient_no_batch(f, x)\n",
    "        \n",
    "        return grad"
   ]
  },
  {
   "cell_type": "code",
   "execution_count": 14,
   "metadata": {},
   "outputs": [],
   "source": [
    "def function_2(x):\n",
    "    if x.ndim == 1:\n",
    "        return np.sum(x**2)\n",
    "    else:\n",
    "        return np.sum(x**2, axis=1)     #axis???\n",
    "    \n",
    "\n",
    "def tangent_line(f,x):\n",
    "    d = numerical_gradient(f, x)\n",
    "    prinf(d)\n",
    "    y = f(x) - d*x\n",
    "    \n",
    "    return lambda t: d*t + y\n",
    "    "
   ]
  },
  {
   "cell_type": "code",
   "execution_count": 17,
   "metadata": {},
   "outputs": [
    {
     "name": "stderr",
     "output_type": "stream",
     "text": [
      "No handles with labels found to put in legend.\n"
     ]
    },
    {
     "data": {
      "image/png": "[encoded data removed]",
      "text/plain": [
       "<Figure size 432x288 with 1 Axes>"
      ]
     },
     "metadata": {},
     "output_type": "display_data"
    }
   ],
   "source": [
    "x0 = np.arange(-2, 2.5, 0.25)\n",
    "x1 = np.arange(-2, 2.5, 0.25)\n",
    "X, Y = np.meshgrid(x0, x1)     # meshgrid??\n",
    "\n",
    "X = X.flatten()      # flatten??\n",
    "Y = Y.flatten()\n",
    "\n",
    "grad = numerical_gradient(function_2, np.array([X, Y]) )\n",
    "\n",
    "plt.figure()\n",
    "plt.quiver(X, Y, -grad[0], -grad[1],  angles=\"xy\",color=\"#666666\")\n",
    "plt.xlim([-2, 2])\n",
    "plt.ylim([-2, 2])\n",
    "plt.xlabel('$x_0$')\n",
    "plt.ylabel('$x_1$')\n",
    "plt.grid()\n",
    "plt.legend()\n",
    "plt.draw()\n",
    "plt.show()"
   ]
  },
  {
   "cell_type": "markdown",
   "metadata": {},
   "source": [
    " 왜 달라..? 어디 오타야~!~"
   ]
  },
  {
   "cell_type": "code",
   "execution_count": null,
   "metadata": {},
   "outputs": [],
   "source": []
  }
 ],
 "metadata": {
  "kernelspec": {
   "display_name": "deep",
   "language": "python",
   "name": "deep"
  },
  "language_info": {
   "codemirror_mode": {
    "name": "ipython",
    "version": 3
   },
   "file_extension": ".py",
   "mimetype": "text/x-python",
   "name": "python",
   "nbconvert_exporter": "python",
   "pygments_lexer": "ipython3",
   "version": "3.6.5"
  }
 },
 "nbformat": 4,
 "nbformat_minor": 2
}
